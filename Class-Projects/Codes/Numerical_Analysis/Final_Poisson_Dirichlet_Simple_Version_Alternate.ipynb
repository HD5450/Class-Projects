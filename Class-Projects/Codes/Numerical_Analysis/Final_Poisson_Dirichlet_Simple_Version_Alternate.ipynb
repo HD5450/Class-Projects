{
  "nbformat": 4,
  "nbformat_minor": 0,
  "metadata": {
    "colab": {
      "name": "Final Poisson Dirichlet - Simple Version - Alternate",
      "provenance": [],
      "collapsed_sections": [],
      "include_colab_link": true
    },
    "kernelspec": {
      "name": "python3",
      "display_name": "Python 3"
    }
  },
  "cells": [
    {
      "cell_type": "markdown",
      "metadata": {
        "id": "view-in-github",
        "colab_type": "text"
      },
      "source": [
        "<a href=\"https://colab.research.google.com/github/Mountain-C/Class-Projects/blob/master/Class-Projects/Codes/Numerical_Analysis/Final_Poisson_Dirichlet_Simple_Version_Alternate.ipynb\" target=\"_parent\"><img src=\"https://colab.research.google.com/assets/colab-badge.svg\" alt=\"Open In Colab\"/></a>"
      ]
    },
    {
      "cell_type": "code",
      "metadata": {
        "id": "V588Wkl0Suth",
        "outputId": "b344013a-f6b0-4062-9c7c-56268d227c86",
        "colab": {
          "base_uri": "https://localhost:8080/",
          "height": 605
        }
      },
      "source": [
        "\n",
        "from scipy import sparse\n",
        "from scipy.sparse.linalg import spsolve\n",
        "import numpy as np\n",
        "\n",
        "from mpl_toolkits.mplot3d import Axes3D\n",
        "import matplotlib.pyplot as plt\n",
        "from matplotlib import cm\n",
        "\n",
        "\n",
        "def matprint(mat, fmt=\"g\"):\n",
        "    col_maxes = [max([len((\"{:\"+fmt+\"}\").format(x)) for x in col]) for col in mat.T]\n",
        "    for x in mat:\n",
        "        for i, y in enumerate(x):\n",
        "            print((\"{:\"+str(col_maxes[i])+fmt+\"}\").format(y), end=\"  \")\n",
        "        print(\"\")\n",
        "\n",
        "def rhs(x, y):\n",
        "    # Element-wise multiplication\n",
        "    return np.multiply(x, (x-y)**3)\n",
        "\n",
        "\n",
        "def bc_dirichlet(x, y, m):\n",
        "\n",
        "    bc = np.zeros((m + 1, m + 1))\n",
        "    bc[:, 0] = y[:, 0]**2\n",
        "    bc[:, m] = np.ones((m + 1, 1)).ravel()\n",
        "    bc[0, :] = x[0, :]**3\n",
        "    bc[m, :] = np.ones((1, m+1)).ravel()\n",
        "    return bc\n",
        "\n",
        "def generate_A(k):\n",
        "    \"\"\"Create the matrix for the temperature problem on a k-by-k grid.\n",
        "    Parameters: \n",
        "      k: number of grid points in each dimension.\n",
        "    Outputs:\n",
        "      A: the sparse k**2-by-k**2 matrix representing the finite difference approximation to Poisson's equation.\n",
        "    \"\"\"\n",
        "    # First make a list with one triple (row, column, value) for each nonzero element of A\n",
        "    triples = []\n",
        "    for i in range(k):\n",
        "        for j in range(k):\n",
        "            # what row of the matrix is grid point (i, j)?\n",
        "            row = j + i * k\n",
        "            # the diagonal element in this row\n",
        "            triples.append((row, row, 4.0))\n",
        "            # connect to left grid neighbor\n",
        "            if j > 0:\n",
        "                triples.append((row, row - 1, -1.0))\n",
        "            # ... right neighbor\n",
        "            if j < k - 1:\n",
        "                triples.append((row, row + 1, -1.0))\n",
        "            # ... neighbor above\n",
        "            if i > 0:\n",
        "                triples.append((row, row - k, -1.0))\n",
        "            # ... neighbor below\n",
        "            if i < k - 1:\n",
        "                triples.append((row, row + k, -1.0))\n",
        "    \n",
        "    # Finally convert the list of triples to a scipy sparse matrix\n",
        "    ndim = k*k\n",
        "    rownum = [t[0] for t in triples]\n",
        "    colnum = [t[1] for t in triples]\n",
        "    values = [t[2] for t in triples]\n",
        "    A = sparse.csr_matrix((values, (rownum, colnum)), shape = (ndim, ndim))\n",
        "#     matprint(A.toarray())\n",
        "    return A\n",
        "  \n",
        "  \n",
        "def generate_sparse_matrix(m):\n",
        "    \n",
        "    main_diag = 2 * np.ones((m - 1, 1)).ravel()\n",
        "    off_diag = -1 * np.ones((m - 2, 1)).ravel()\n",
        "\n",
        "    diagonals = [main_diag, off_diag, off_diag]\n",
        "    b1 = sparse.diags(diagonals, [0, -1, 1], shape=(m - 1, m - 1)).toarray()\n",
        "    sB = sparse.csc_matrix(b1)\n",
        "          \n",
        "    I = sparse.eye(m - 1, format=\"csr\").toarray()\n",
        "    sI = sparse.csc_matrix(I)\n",
        "\n",
        "    a1 = sparse.kron(sI, sB).toarray()\n",
        "    a2 = sparse.kron(sB, sI).toarray()\n",
        "    \n",
        "    mat = sparse.csc_matrix(a1 + a2)\n",
        "#     matprint(mat.toarray())\n",
        "    return mat\n",
        "\n",
        "\n",
        "M = 5\n",
        "a = 0.0\n",
        "b = 4\n",
        "\n",
        "h = (b - a)/M\n",
        "x1 = np.linspace(a, b, M + 1)\n",
        "\n",
        "X, Y = np.meshgrid(x1, x1)\n",
        "\n",
        "#----- Right hand side\n",
        "f = rhs(X, Y)\n",
        "f = np.array(f.T)[1:M, 1:M].reshape(((M - 1)*(M - 1), 1))\n",
        "#----- Boundary conditions\n",
        "G = bc_dirichlet(X, Y, M)\n",
        "#----- Rearranges matrix G into an array\n",
        "g = np.zeros(((M-1)**2, 1))\n",
        "g[0:M-1, 0] = G[1:M, 0]\n",
        "g[(M-1)**2 - M + 1: M**2, 0] = G[1:M, M]\n",
        "g[0:M**2:M-1, 0] = g[0:M**2: M - 1, 0] + G[0, 1:M]\n",
        "g[M - 2:M**2:M - 1, 0] = g[M - 2:M**2:M-1, 0] + G[M, 1:M]\n",
        "\n",
        "A_iterative = generate_A(4)\n",
        "A = generate_sparse_matrix(M)\n",
        "\n",
        "A_to_dense = A.todense() # for debugging\n",
        "\n",
        "#----- Solve A*x=b => x=A\\b\n",
        "U = spsolve(A, f*(h**2) + g)\n",
        "U = U.reshape((M-1, M-1)).T\n",
        "G[1:M, 1:M] = U\n",
        "\n",
        "mask = np.array([[1,1,1,1,1,1],[1,1,1,1,1,1],[1,1,1,1,1,1],[1,1,1,1,np.nan,np.nan],[1,1,1,np.nan,np.nan,np.nan],[np.nan,np.nan,np.nan,np.nan,np.nan,np.nan]])\n",
        "\n",
        "x_row = [0,1,2,3,4, 5]\n",
        "X = [x_row] * 6\n",
        "\n",
        "Y = np.transpose(X)\n",
        "\n",
        "print(G * mask)\n",
        "\n",
        "fig = plt.figure()\n",
        "ax = fig.gca(projection='3d')\n",
        "surf = ax.plot_surface(X, Y, G * mask, cmap=cm.coolwarm,\n",
        "                       linewidth=0, antialiased=False)\n",
        "\n",
        "\n",
        "\n",
        "ax.set_xlim(0, 5)\n",
        "ax.set_ylim(0, 5)\n",
        "#----- Static image\n",
        "ax.set_xlabel('X')\n",
        "ax.set_ylabel('Y')\n",
        "ax.set_zlabel('G')\n",
        "plt.tight_layout()\n",
        "ax.view_init(azim=270, elev=90)\n",
        "plt.show()"
      ],
      "execution_count": null,
      "outputs": [
        {
          "output_type": "stream",
          "text": [
            "[[ 0.          0.512       4.096      13.824      32.768      64.        ]\n",
            " [ 0.64        2.98180848  7.10101411 14.7361888  22.10738521  1.        ]\n",
            " [ 2.56        3.67421983  6.06577115  9.62089988 11.61380005  1.        ]\n",
            " [ 5.76        3.35144368  3.86695079  5.28140752         nan         nan]\n",
            " [10.24        2.20175612  1.2934688          nan         nan         nan]\n",
            " [        nan         nan         nan         nan         nan         nan]]\n"
          ],
          "name": "stdout"
        },
        {
          "output_type": "stream",
          "text": [
            "/usr/local/lib/python3.6/dist-packages/numpy/core/_methods.py:29: RuntimeWarning: invalid value encountered in reduce\n",
            "  return umr_minimum(a, axis, None, out, keepdims)\n",
            "/usr/local/lib/python3.6/dist-packages/numpy/core/_methods.py:26: RuntimeWarning: invalid value encountered in reduce\n",
            "  return umr_maximum(a, axis, None, out, keepdims)\n",
            "/usr/local/lib/python3.6/dist-packages/matplotlib/colors.py:512: RuntimeWarning: invalid value encountered in less\n",
            "  xa[xa < 0] = -1\n"
          ],
          "name": "stderr"
        },
        {
          "output_type": "display_data",
          "data": {
            "image/png": "[encoded data removed]",
            "text/plain": [
              "<Figure size 576x396 with 1 Axes>"
            ]
          },
          "metadata": {
            "tags": []
          }
        }
      ]
    },
    {
      "cell_type": "code",
      "metadata": {
        "id": "QzYXwQOJ9Fnp"
      },
      "source": [
        "\n",
        "from IPython.core.display import display, HTML\n",
        "import json\n",
        "import numpy as np\n",
        "\n",
        "def plot3D(X, Y, Z, height=600, xlabel = \"X\", ylabel = \"Y\", zlabel = \"Z\", initialCamera = None):\n",
        "\n",
        "    options = {\n",
        "        \"width\": \"100%\",\n",
        "        \"style\": \"surface\",\n",
        "        \"showPerspective\": True,\n",
        "        \"showGrid\": True,\n",
        "        \"showShadow\": False,\n",
        "        \"keepAspectRatio\": True,\n",
        "        \"height\": str(height) + \"px\"\n",
        "    }\n",
        "\n",
        "    if initialCamera:\n",
        "        options[\"cameraPosition\"] = initialCamera\n",
        "    \n",
        "    \n",
        "    data = [ {\"x\": X[y, x], \"y\": Y[y,x], \"z\": Z[y,x]} for y in range(X.shape[0]) if y <= 4 for x in range(X.shape[1]) if x <=5 ]\n",
        "    visCode = r\"\"\"\n",
        "       <link href=\"https://cdnjs.cloudflare.com/ajax/libs/vis/4.21.0/vis.min.css\" type=\"text/css\" rel=\"stylesheet\" />\n",
        "       <script src=\"https://cdnjs.cloudflare.com/ajax/libs/vis/4.21.0/vis.min.js\"></script>\n",
        "       <div id=\"pos\" style=\"top:0px;left:0px;position:absolute;\"></div>\n",
        "       <div id=\"visualization\"></div>\n",
        "       <script type=\"text/javascript\">\n",
        "        var data = new vis.DataSet();\n",
        "        data.add(\"\"\" + json.dumps(data) + \"\"\");\n",
        "        var options = \"\"\" + json.dumps(options) + \"\"\";\n",
        "        var container = document.getElementById(\"visualization\");\n",
        "        var graph3d = new vis.Graph3d(container, data, options);\n",
        "        graph3d.on(\"cameraPositionChange\", function(evt)\n",
        "        {\n",
        "            elem = document.getElementById(\"pos\");\n",
        "            elem.innerHTML = \"H: \" + evt.horizontal + \"<br>V: \" + evt.vertical + \"<br>D: \" + evt.distance;\n",
        "        });\n",
        "       </script>\n",
        "    \"\"\"\n",
        "    htmlCode = \"<iframe srcdoc='\"+visCode+\"' width='100%' height='\" + str(height) + \"px' style='border:0;' scrolling='no'> </iframe>\"\n",
        "    display(HTML(htmlCode))\n"
      ],
      "execution_count": null,
      "outputs": []
    },
    {
      "cell_type": "code",
      "metadata": {
        "id": "ff7l4I4Z9gLd",
        "outputId": "a37c6b5a-e24d-40b6-88ce-c7e87071603b",
        "colab": {
          "base_uri": "https://localhost:8080/",
          "height": 621
        }
      },
      "source": [
        "plot3D(X, Y, G)"
      ],
      "execution_count": null,
      "outputs": [
        {
          "output_type": "display_data",
          "data": {
            "text/html": [
              "<iframe srcdoc='\n",
              "       <link href=\"https://cdnjs.cloudflare.com/ajax/libs/vis/4.21.0/vis.min.css\" type=\"text/css\" rel=\"stylesheet\" />\n",
              "       <script src=\"https://cdnjs.cloudflare.com/ajax/libs/vis/4.21.0/vis.min.js\"></script>\n",
              "       <div id=\"pos\" style=\"top:0px;left:0px;position:absolute;\"></div>\n",
              "       <div id=\"visualization\"></div>\n",
              "       <script type=\"text/javascript\">\n",
              "        var data = new vis.DataSet();\n",
              "        data.add([{\"x\": 0.0, \"y\": 0.0, \"z\": 0.0}, {\"x\": 0.8, \"y\": 0.0, \"z\": 0.5120000000000001}, {\"x\": 1.6, \"y\": 0.0, \"z\": 4.096000000000001}, {\"x\": 2.4000000000000004, \"y\": 0.0, \"z\": 13.824000000000007}, {\"x\": 3.2, \"y\": 0.0, \"z\": 32.76800000000001}, {\"x\": 4.0, \"y\": 0.0, \"z\": 64.0}, {\"x\": 0.0, \"y\": 0.8, \"z\": 0.6400000000000001}, {\"x\": 0.8, \"y\": 0.8, \"z\": 2.981808484848486}, {\"x\": 1.6, \"y\": 0.8, \"z\": 7.1010141090909125}, {\"x\": 2.4000000000000004, \"y\": 0.8, \"z\": 14.73618880000001}, {\"x\": 3.2, \"y\": 0.8, \"z\": 22.107385212121226}, {\"x\": 4.0, \"y\": 0.8, \"z\": 1.0}, {\"x\": 0.0, \"y\": 1.6, \"z\": 2.5600000000000005}, {\"x\": 0.8, \"y\": 1.6, \"z\": 3.6742198303030307}, {\"x\": 1.6, \"y\": 1.6, \"z\": 6.065771151515152}, {\"x\": 2.4000000000000004, \"y\": 1.6, \"z\": 9.620899878787883}, {\"x\": 3.2, \"y\": 1.6, \"z\": 11.613800048484856}, {\"x\": 4.0, \"y\": 1.6, \"z\": 1.0}, {\"x\": 0.0, \"y\": 2.4000000000000004, \"z\": 5.760000000000002}, {\"x\": 0.8, \"y\": 2.4000000000000004, \"z\": 3.3514436848484834}, {\"x\": 1.6, \"y\": 2.4000000000000004, \"z\": 3.8669507878787877}, {\"x\": 2.4000000000000004, \"y\": 2.4000000000000004, \"z\": 5.281407515151516}, {\"x\": 3.2, \"y\": 2.4000000000000004, \"z\": 5.3383071030303055}, {\"x\": 4.0, \"y\": 2.4000000000000004, \"z\": 1.0}, {\"x\": 0.0, \"y\": 3.2, \"z\": 10.240000000000002}, {\"x\": 0.8, \"y\": 3.2, \"z\": 2.20175612121212}, {\"x\": 1.6, \"y\": 3.2, \"z\": 1.2934687999999992}, {\"x\": 2.4000000000000004, \"y\": 3.2, \"z\": 2.2994722909090908}, {\"x\": 3.2, \"y\": 3.2, \"z\": 2.409444848484849}, {\"x\": 4.0, \"y\": 3.2, \"z\": 1.0}]);\n",
              "        var options = {\"width\": \"100%\", \"style\": \"surface\", \"showPerspective\": true, \"showGrid\": true, \"showShadow\": false, \"keepAspectRatio\": true, \"height\": \"600px\"};\n",
              "        var container = document.getElementById(\"visualization\");\n",
              "        var graph3d = new vis.Graph3d(container, data, options);\n",
              "        graph3d.on(\"cameraPositionChange\", function(evt)\n",
              "        {\n",
              "            elem = document.getElementById(\"pos\");\n",
              "            elem.innerHTML = \"H: \" + evt.horizontal + \"<br>V: \" + evt.vertical + \"<br>D: \" + evt.distance;\n",
              "        });\n",
              "       </script>\n",
              "    ' width='100%' height='600px' style='border:0;' scrolling='no'> </iframe>"
            ],
            "text/plain": [
              "<IPython.core.display.HTML object>"
            ]
          },
          "metadata": {
            "tags": []
          }
        }
      ]
    },
    {
      "cell_type": "code",
      "metadata": {
        "id": "0WQokqTZMvr3",
        "outputId": "2568f29d-ab10-44e3-d854-b64c6810296b",
        "colab": {
          "base_uri": "https://localhost:8080/",
          "height": 364
        }
      },
      "source": [
        "Z = np.array([\n",
        "    [ 1, 1, 1, 1, 1, ],\n",
        "    [ 1, 1, 1, 1, 1, ],\n",
        "    [ 1, 1, 1, 1, 1, ],\n",
        "    [ 1, 1, 1, 1, 1, ],\n",
        "    [ 1, 1, 1, 1, 1, ],\n",
        "    ])\n",
        "\n",
        "x, y = Z.shape\n",
        "\n",
        "xs = np.arange(x)\n",
        "ys = np.arange(y)\n",
        "X, Y = np.meshgrid(xs, ys)\n",
        "\n",
        "\n",
        "R = np.where(X>=Y, Z, np.nan)\n",
        "\n",
        "fig = plt.figure()\n",
        "ax = fig.add_subplot(111, projection='3d')\n",
        "ax.plot_surface(X, Y, R, rstride=1, linewidth=0)\n",
        "\n",
        "fig.show()"
      ],
      "execution_count": null,
      "outputs": [
        {
          "output_type": "stream",
          "text": [
            "/usr/local/lib/python3.6/dist-packages/numpy/core/_methods.py:29: RuntimeWarning: invalid value encountered in reduce\n",
            "  return umr_minimum(a, axis, None, out, keepdims)\n"
          ],
          "name": "stderr"
        },
        {
          "output_type": "display_data",
          "data": {
            "image/png": "[encoded data removed]",
            "text/plain": [
              "<Figure size 576x396 with 1 Axes>"
            ]
          },
          "metadata": {
            "tags": []
          }
        }
      ]
    },
    {
      "cell_type": "code",
      "metadata": {
        "id": "mjwO5X6_NEGm"
      },
      "source": [
        "domain = np.random.random((4, 5))\n",
        "domain.astype(float)\n",
        "domain *= np.tri(*domain.shape)\n",
        "domain[domain == 0] = np.nan\n",
        "\n",
        "domain[0][1] = 1\n",
        "domain[1][2] = 1\n",
        "domain[2][3] = 1\n",
        "domain[2][4] = 1\n",
        "\n",
        "domain[3][4] = 1"
      ],
      "execution_count": null,
      "outputs": []
    },
    {
      "cell_type": "code",
      "metadata": {
        "id": "A2qdjgzSkWYG"
      },
      "source": [
        "#----- Generic solver\n",
        "def matrixSolver(inputStepSize, domain, rhsEquation):\n",
        "  # Solve poisson equation with domain given by unit squares in\n",
        "  # matrix. The differential equation is then represented by a\n",
        "  # matrix system of equations to solve.\n",
        "  \n",
        "  # Stride length\n",
        "  steps = round(1 / inputStepSize)\n",
        "\n",
        "  # Refining the domain using the kronecker product - \n",
        "  refinedDomain = np.kron(domain, np.ones(steps))\n",
        "  \n",
        "  # Fix x axis missing expanded values and boundaries\n",
        "  leftSide = np.kron(refinedDomain[:, 0], np.ones(1, steps-1))\n",
        "  leftBoundary = np.zeros(leftSide.shape[0], 1)\n",
        "  rightBoundary = leftBoundary\n",
        "  refinedDomain = np.vstack((belowBoundary, topBoundary, refinedDomain, bottomBoundary))\n",
        "\n",
        "  # Fix y axis missing expanded values and boundaries\n",
        "  belowboundary = np.kron(refinedDomain[0,:], np.ones(steps-1, 1))\n",
        "  topBoundary = np.zeros(1, belowboundary.shape[1])\n",
        "  bottomBoundary = topBoundary\n",
        "  refinedDomain = [bottomBoundary, belowboundary, refinedDomain, topBoundary]\n",
        "\n",
        "  # Find nonzero elements on the domain\n",
        "  [yPoints, xPoints] = find(refinedDomain)\n",
        "\n",
        "  # Scale x and y points based on step size\n",
        "  xPoints = inputStepSize * xPoints\n",
        "  yPoints = inputStepSize * yPoints\n",
        "\n",
        "  # Initialize operator matrix with diagonals\n",
        "  operatorMatrix = 4 * sparse.eye(xPoints.size).toarray()\n",
        "\n",
        "\n",
        "  # Iterate through each neighborhood and assign -1 where necessary\n",
        "  for i in range(xPoints.size):\n",
        "      currentPoint = [xPoints[i], yPoints[i]]\n",
        "\n",
        "      # Set up coordinates of surrounding points\n",
        "      above = [currentPoint[0], currentPoint[1] + inputStepSize]\n",
        "      below = [currentPoint[0], currentPoint[1] - inputStepSize]\n",
        "      left = [currentPoint[0] - inputStepSize, currentPoint[1]]\n",
        "      right = [currentPoint[0] + inputStepSize, currentPoint[1]]\n",
        "\n",
        "      # Vector of surrounding points for easy iteration\n",
        "      surroundingPoints = [above, below, left, right]\n",
        "\n",
        "      # Retrieve individual indices for each \n",
        "      for j in range(surroundingPoints.size/2):\n",
        "          idx = findPoint(xPoints, yPoints, [surroundingPoints[j][0], surroundingPoints[j][1]])\n",
        "          operatorMatrix[i, idx] = -1\n",
        "\n",
        "  # Create right hand side vector\n",
        "  rhsVector = inputStepSize ** 2 * rhsEquation(xPoints, yPoints)\n",
        "\n",
        "#   # Solve the system\n",
        "#   solutionMatrix = operatorMatrix \\ rhsVector;\n",
        "\n",
        "#   # Coordinates plotted for visualization\n",
        "#   [X, Y] = meshgrid(0:inputStepSize:size(domain, 2)+1, ...\n",
        "#       0:inputStepSize:size(domain, 1)+1);\n",
        "\n",
        "#   Z = refinedDomain;\n",
        "#   for i=1:numel(solutionMatrix)\n",
        "#       Z(find(Z == 1, 1)) = solutionMatrix(i);\n",
        "  \n",
        "\n",
        "#   # Remove values for x and y that are not internal or boundary points\n",
        "#   zeroIndices = find(~conv2(Z, [1 1 1; 1 0 1; 1 1 1], 'same'));\n",
        "#   X(zeroIndices) = np.nan;\n",
        "#   Y(zeroIndices) = np.nan;\n"
      ],
      "execution_count": null,
      "outputs": []
    },
    {
      "cell_type": "code",
      "metadata": {
        "id": "37tKLVX7NyM9"
      },
      "source": [
        ""
      ],
      "execution_count": null,
      "outputs": []
    }
  ]
}