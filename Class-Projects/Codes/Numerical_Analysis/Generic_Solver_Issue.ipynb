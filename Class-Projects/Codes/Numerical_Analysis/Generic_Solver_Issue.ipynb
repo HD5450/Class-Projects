{
  "nbformat": 4,
  "nbformat_minor": 0,
  "metadata": {
    "colab": {
      "name": "Generic Solver Issue",
      "provenance": [],
      "collapsed_sections": [],
      "include_colab_link": true
    },
    "kernelspec": {
      "name": "python3",
      "display_name": "Python 3"
    }
  },
  "cells": [
    {
      "cell_type": "markdown",
      "metadata": {
        "id": "view-in-github",
        "colab_type": "text"
      },
      "source": [
        "<a href=\"https://colab.research.google.com/github/Mountain-C/Class-Projects/blob/master/Class-Projects/Codes/Numerical_Analysis/Generic_Solver_Issue.ipynb\" target=\"_parent\"><img src=\"https://colab.research.google.com/assets/colab-badge.svg\" alt=\"Open In Colab\"/></a>"
      ]
    },
    {
      "cell_type": "code",
      "metadata": {
        "id": "QVJ9lAPddssz",
        "outputId": "a920c1a7-e5b0-4467-aab4-be2ab5772183",
        "colab": {
          "base_uri": "https://localhost:8080/",
          "height": 582
        }
      },
      "source": [
        "import numpy as np\n",
        "import scipy.signal as signal\n",
        "import scipy\n",
        "import matplotlib.pyplot as plt  \n",
        "\n",
        "def rhs(x, y):\n",
        "    # Element-wise multiplication\n",
        "    return np.multiply(x, (x - y)**3)\n",
        "\n",
        "def matprint(mat, fmt=\"g\"):\n",
        "    col_maxes = [max([len((\"{:\"+fmt+\"}\").format(x)) for x in col]) for col in mat.T]\n",
        "    for x in mat:\n",
        "        for i, y in enumerate(x):\n",
        "            print((\"{:\"+str(col_maxes[i])+fmt+\"}\").format(y), end=\"  \")\n",
        "        print(\"\")\n",
        "\n",
        "domain = np.vstack([[1,1,1,1],[1,1,0,0], [1,0,0,0]])\n",
        "        \n",
        "        \n",
        "def matrix_generator(inputStepSize, rhsEquation, domainMatrix, *args,**kwargs):\n",
        "\n",
        "  # Solve poisson equation with domain given by unit squares in\n",
        "  # matrix. The differential equation is then represented by a\n",
        "  # matrix system of equations to solve.\n",
        "    \n",
        "    # Stride length\n",
        "    steps = round(1 / inputStepSize)\n",
        "    # Expand the domain using the kronecker product\n",
        "    refinedDomain = np.kron(domainMatrix, np.ones(steps))    \n",
        "    leftSide = np.kron(refinedDomain[:, 0], np.ones((1, steps - 1)))\n",
        "    leftBoundary = np.zeros((refinedDomain.shape[0], 1))\n",
        "    rightBoundary = np.copy(leftBoundary)\n",
        "    debugging = [(np.shape(arr)) for arr in (leftBoundary, leftSide, refinedDomain, rightBoundary)]\n",
        "    refinedDomain = np.hstack((leftBoundary, refinedDomain, rightBoundary))\n",
        "\n",
        "\n",
        "    # Fix y axis missing expanded values and boundaries\n",
        "    belowboundary = np.kron(refinedDomain[0, ], np.ones( (steps - 1, 1)))\n",
        "    topBoundary = np.zeros( (1, belowboundary.shape[1]))\n",
        "    bottomBoundary = np.copy(topBoundary)\n",
        "    refinedDomain = np.concatenate((bottomBoundary, belowboundary,\n",
        "                                    refinedDomain, topBoundary), axis = 0)    \n",
        "    \n",
        "    # plot the pattern of the domain to ensure it is correct - \n",
        "#      used for debugging\n",
        "    fig = plt.figure(figsize=(6, 6))\n",
        "    ax = fig.add_subplot(111)\n",
        "    ax.spy(refinedDomain);\n",
        "    \n",
        "    x_interior, y_interior = np.where(refinedDomain != 0)\n",
        "    \n",
        "    # Scale x and y points based on step size\n",
        "    x_interior = inputStepSize * x_interior\n",
        "    y_interior = inputStepSize * y_interior\n",
        "    \n",
        "    operatorMatrix = 4 * scipy.sparse.eye(x_interior.size).toarray()\n",
        "\n",
        "    #Iterate through each neighborhood and assign -1 where necessary\n",
        "    for i in np.arange(0, x_interior.size).reshape(-1):\n",
        "      current_x = np.array(x_interior[i])\n",
        "      current_y = np.array(y_interior[i])\n",
        "\n",
        "      currentPoint = np.hstack((current_x, current_y))\n",
        "      above = np.hstack((currentPoint[0], currentPoint[1] + inputStepSize))\n",
        "      below = np.hstack((currentPoint[0], currentPoint[1] - inputStepSize))\n",
        "      left = np.hstack((currentPoint[0] - inputStepSize, currentPoint[1]))\n",
        "      right = np.hstack((currentPoint[0] + inputStepSize, currentPoint[1]))\n",
        "\n",
        "      neighbors = np.vstack((above, below, left, right))\n",
        "\n",
        "      for j in np.arange(1, neighbors.size / 2).reshape(-1):\n",
        "        x_indices = np.where(x_interior == np.vstack((neighbors[int(j), 0],\n",
        "                                                  neighbors[int(j), 1]))[0][0])\n",
        "\n",
        "        index = np.where(\n",
        "          y_interior[x_indices] == np.vstack((neighbors[int(j), 0],\n",
        "                                                  neighbors[int(j), 1]))[1][0])\n",
        "        operatorMatrix[i, index] = -1\n",
        "\n",
        "    # Create right hand side vector\n",
        "    rhsVector = np.dot(inputStepSize ** 2, rhsEquation(x_interior, y_interior))\n",
        "\n",
        "    # Solve the system\n",
        "    solutionMatrix = np.linalg.solve(operatorMatrix, rhsVector)\n",
        "\n",
        "    # Coordinates plotted for visualization\n",
        "    X,Y = np.meshgrid(np.arange(0, np.size(refinedDomain, axis = 1) + 1, \n",
        "                                inputStepSize), \n",
        "                      np.arange(0, np.size(refinedDomain, axis = 0) + 1, inputStepSize))\n",
        "\n",
        "    Z = np.copy(refinedDomain)\n",
        "    (i, j) = (Z != 0).nonzero()\n",
        "    for solution in np.arange(0, np.size(solutionMatrix)).reshape(-1):\n",
        "      Z[i, j] = solutionMatrix[i]\n",
        "\n",
        "    # Remove x and y coordinates that are not within the domain or boundary\n",
        "    arr_temp = np.vstack([[1,1,1],[1,0,1],[1,1,1]])\n",
        "    convolve2d_temp = np.logical_not(signal.convolve2d(Z, arr_temp, mode='same'))\n",
        "    zeroIndices = np.where(convolve2d_temp)\n",
        "    X[zeroIndices] = 0\n",
        "    Y[zeroIndices] = 0\n",
        "    \n",
        "    return X, Y, Z\n",
        "\n",
        "matrix_generator(1, rhs, domain)\n",
        "# print(X.shape, Y.shape, Z.shape)"
      ],
      "execution_count": null,
      "outputs": [
        {
          "output_type": "execute_result",
          "data": {
            "text/plain": [
              "(array([[0, 1, 2, 3, 4, 5, 6],\n",
              "        [0, 1, 2, 3, 4, 5, 6],\n",
              "        [0, 1, 2, 3, 4, 5, 6],\n",
              "        [0, 1, 2, 3, 0, 0, 6],\n",
              "        [0, 1, 2, 0, 0, 0, 6],\n",
              "        [0, 1, 2, 3, 4, 5, 6]]), array([[0, 0, 0, 0, 0, 0, 0],\n",
              "        [1, 1, 1, 1, 1, 1, 1],\n",
              "        [2, 2, 2, 2, 2, 2, 2],\n",
              "        [3, 3, 3, 3, 0, 0, 3],\n",
              "        [4, 4, 4, 0, 0, 0, 4],\n",
              "        [5, 5, 5, 5, 5, 5, 5]]), array([[ 0.    ,  0.    ,  0.    ,  0.    ,  0.    ,  0.    ],\n",
              "        [ 0.    ,  1.    ,  1.    ,  1.    ,  1.    ,  0.    ],\n",
              "        [ 0.    , -1.75  , -1.75  ,  0.    ,  0.    ,  0.    ],\n",
              "        [ 0.    , -7.1875,  0.    ,  0.    ,  0.    ,  0.    ],\n",
              "        [ 0.    ,  0.    ,  0.    ,  0.    ,  0.    ,  0.    ]]))"
            ]
          },
          "metadata": {
            "tags": []
          },
          "execution_count": 3
        },
        {
          "output_type": "display_data",
          "data": {
            "image/png": "[encoded data removed]",
            "text/plain": [
              "<Figure size 432x432 with 1 Axes>"
            ]
          },
          "metadata": {
            "tags": []
          }
        }
      ]
    },
    {
      "cell_type": "code",
      "metadata": {
        "id": "Hh_KHQABXnPs"
      },
      "source": [
        "from IPython.core.display import display, HTML\n",
        "import json\n",
        "import numpy as np\n",
        "\n",
        "def plot3D(X, Y, Z, height=600, xlabel = \"X\", ylabel = \"Y\", zlabel = \"Z\", initialCamera = None):\n",
        "\n",
        "    options = {\n",
        "        \"width\": \"100%\",\n",
        "        \"style\": \"surface\",\n",
        "        \"showPerspective\": True,\n",
        "        \"showGrid\": True,\n",
        "        \"showShadow\": False,\n",
        "        \"keepAspectRatio\": True,\n",
        "        \"height\": str(height) + \"px\"\n",
        "    }\n",
        "\n",
        "    if initialCamera:\n",
        "        options[\"cameraPosition\"] = initialCamera\n",
        "        \n",
        "    data = [ {\"x\": X[y,x], \"y\": Y[y,x], \"z\": Z[y,x]} for y in range(X.shape[0]) for x in range(X.shape[1]) ]\n",
        "    visCode = r\"\"\"\n",
        "       <link href=\"https://cdnjs.cloudflare.com/ajax/libs/vis/4.21.0/vis.min.css\" type=\"text/css\" rel=\"stylesheet\" />\n",
        "       <script src=\"https://cdnjs.cloudflare.com/ajax/libs/vis/4.21.0/vis.min.js\"></script>\n",
        "       <div id=\"pos\" style=\"top:0px;left:0px;position:absolute;\"></div>\n",
        "       <div id=\"visualization\"></div>\n",
        "       <script type=\"text/javascript\">\n",
        "        var data = new vis.DataSet();\n",
        "        data.add(\"\"\" + json.dumps(data) + \"\"\");\n",
        "        var options = \"\"\" + json.dumps(options) + \"\"\";\n",
        "        var container = document.getElementById(\"visualization\");\n",
        "        var graph3d = new vis.Graph3d(container, data, options);\n",
        "        graph3d.on(\"cameraPositionChange\", function(evt)\n",
        "        {\n",
        "            elem = document.getElementById(\"pos\");\n",
        "            elem.innerHTML = \"H: \" + evt.horizontal + \"<br>V: \" + evt.vertical + \"<br>D: \" + evt.distance;\n",
        "        });\n",
        "       </script>\n",
        "    \"\"\"\n",
        "    htmlCode = \"<iframe srcdoc='\"+visCode+\"' width='100%' height='\" + str(height) + \"px' style='border:0;' scrolling='no'> </iframe>\"\n",
        "    display(HTML(htmlCode))\n"
      ],
      "execution_count": null,
      "outputs": []
    },
    {
      "cell_type": "code",
      "metadata": {
        "id": "VwyzDhxUFA46",
        "outputId": "990d17ae-34e5-4627-84af-f1433a5eb20f",
        "colab": {
          "base_uri": "https://localhost:8080/",
          "height": 34
        }
      },
      "source": [
        "print(X.shape, Y.shape, Z.shape)"
      ],
      "execution_count": null,
      "outputs": [
        {
          "output_type": "stream",
          "text": [
            "(28, 112) (28, 112) (6, 27)\n"
          ],
          "name": "stdout"
        }
      ]
    }
  ]
}